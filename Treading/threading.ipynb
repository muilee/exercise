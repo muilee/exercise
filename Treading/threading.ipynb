{
 "cells": [
  {
   "cell_type": "code",
   "execution_count": 1,
   "metadata": {},
   "outputs": [
    {
     "name": "stdout",
     "output_type": "stream",
     "text": [
      "this is added Thread, number is <Thread(Thread-6, started 12488)>6\n",
      "\n"
     ]
    }
   ],
   "source": [
    "import threading\n",
    "\n",
    "def job():\n",
    "    print(\"this is added Thread, number is {}\".format(threading.current_thread()))\n",
    "\n",
    "def main():\n",
    "    added_thread = threading.Thread(target=job)\n",
    "    added_thread.start()\n",
    "    print(threading.active_count())\n",
    "if __name__==\"__main__\":\n",
    "    main()"
   ]
  },
  {
   "cell_type": "code",
   "execution_count": 2,
   "metadata": {},
   "outputs": [
    {
     "name": "stdout",
     "output_type": "stream",
     "text": [
      "T1 startall done\n",
      "\n",
      "T1 finish\n"
     ]
    }
   ],
   "source": [
    "import time\n",
    "\n",
    "def job():\n",
    "    print(\"T1 start\")\n",
    "    for i in range(10):\n",
    "        time.sleep(0.1)\n",
    "    print(\"T1 finish\")\n",
    "    \n",
    "# main threading will not go into job function instead of continue execute next code\n",
    "def main():\n",
    "    added_thread = threading.Thread(target=job, name=\"T1\")\n",
    "    added_thread.start()\n",
    "    print(\"all done\")\n",
    "if __name__==\"__main__\":\n",
    "    main()"
   ]
  },
  {
   "cell_type": "code",
   "execution_count": 3,
   "metadata": {},
   "outputs": [
    {
     "name": "stdout",
     "output_type": "stream",
     "text": [
      "T1 start\n",
      "T1 finishall done\n",
      "\n"
     ]
    }
   ],
   "source": [
    "import time\n",
    "\n",
    "def job():\n",
    "    print(\"T1 start\")\n",
    "    for i in range(10):\n",
    "        time.sleep(0.1)\n",
    "    print(\"T1 finish\")\n",
    "    \n",
    "# main threading will not go into job function, but it have to wait T1 treading before execute next code\n",
    "def main():\n",
    "    added_thread = threading.Thread(target=job, name=\"T1\")\n",
    "    added_thread.start()\n",
    "    added_thread.join()\n",
    "    print(\"all done\")\n",
    "if __name__==\"__main__\":\n",
    "    main()"
   ]
  },
  {
   "cell_type": "code",
   "execution_count": 4,
   "metadata": {},
   "outputs": [
    {
     "name": "stdout",
     "output_type": "stream",
     "text": [
      "T1 startT2 start\n",
      "T2 finish\n",
      "\n",
      "T1 finishall done\n",
      "\n"
     ]
    }
   ],
   "source": [
    "import time\n",
    "\n",
    "def job():\n",
    "    print(\"T1 start\")\n",
    "    for i in range(10):\n",
    "        time.sleep(0.1)\n",
    "    print(\"T1 finish\")\n",
    "\n",
    "def job_2():\n",
    "    print(\"T2 start\")\n",
    "    print(\"T2 finish\")\n",
    "    \n",
    "# main threading will not go into job function, but it have to wait T1, T2 treading before execute next code\n",
    "def main():\n",
    "    added_thread = threading.Thread(target=job, name=\"T1\")\n",
    "    thread2 = threading.Thread(target=job_2, name=\"T2\")\n",
    "    added_thread.start()\n",
    "    thread2.start()\n",
    "    added_thread.join()\n",
    "    thread2.join()\n",
    "    print(\"all done\")\n",
    "if __name__==\"__main__\":\n",
    "    main()"
   ]
  },
  {
   "cell_type": "code",
   "execution_count": 5,
   "metadata": {},
   "outputs": [
    {
     "name": "stdout",
     "output_type": "stream",
     "text": [
      "[[1, 4, 9], [16, 25, 36], [49, 64, 81], [25, 25, 25]]\n"
     ]
    }
   ],
   "source": [
    "#Queue\n",
    "from queue import Queue\n",
    "\n",
    "def job(l, q):\n",
    "    for i in range(len(l)):\n",
    "        l[i] = l[i] ** 2\n",
    "    q.put(l)\n",
    "\n",
    "def multithrading():\n",
    "    q = Queue()\n",
    "    threads = []\n",
    "    data = [[1,2,3],[4,5,6],[7,8,9],[5,5,5]]\n",
    "    for i in range(4):\n",
    "        t = threading.Thread(target=job, args=(data[i], q))\n",
    "        t.start()\n",
    "        threads.append(t)\n",
    "    for thread in threads:\n",
    "        thread.join()\n",
    "        \n",
    "    results = []\n",
    "    \n",
    "    for _ in range(4):\n",
    "        results.append(q.get())\n",
    "    print(results)\n",
    "    \n",
    "if __name__==\"__main__\":\n",
    "    multithrading()"
   ]
  },
  {
   "cell_type": "code",
   "execution_count": 7,
   "metadata": {},
   "outputs": [
    {
     "name": "stdout",
     "output_type": "stream",
     "text": [
      "1999998000000\n",
      "normal:  0.234452486038208\n",
      "1999998000000\n",
      "normal:  0.24243426322937012\n"
     ]
    }
   ],
   "source": [
    "#GIL\n",
    "import threading\n",
    "from queue import Queue\n",
    "import copy\n",
    "import time\n",
    "\n",
    "def job(l, q):\n",
    "    res = sum(l)\n",
    "    q.put(res)\n",
    "\n",
    "def multithrading(l):\n",
    "    q = Queue()\n",
    "    threads = []\n",
    "    for i in range(4):\n",
    "        t = threading.Thread(target=job, args=(copy.copy(l), q), name=\"T%i\"%i)\n",
    "        t.start()\n",
    "        threads.append(t)\n",
    "    [t.join() for t in threads]\n",
    "    total = 0\n",
    "    for _ in range(4):\n",
    "        total += q.get()\n",
    "    print(total)\n",
    "    \n",
    "def normal(l):\n",
    "    total = sum(l)\n",
    "    print(total)\n",
    "    \n",
    "if __name__==\"__main__\":\n",
    "    l = list(range(1000000))\n",
    "    s_t = time.time()\n",
    "    normal(l*4)\n",
    "    print(\"normal: \", time.time() - s_t)\n",
    "    \n",
    "    s_t = time.time()\n",
    "    multithrading(l)\n",
    "    print(\"normal: \", time.time() - s_t)"
   ]
  },
  {
   "cell_type": "code",
   "execution_count": null,
   "metadata": {},
   "outputs": [
    {
     "name": "stdout",
     "output_type": "stream",
     "text": [
      "job1 1\n",
      "job1 2job2 20\n",
      "\n",
      "job1 3job2 30\n",
      "\n",
      "job1 4job2 40\n",
      "\n",
      "job1 5job2 50\n",
      "\n",
      "job1 6job2 60\n",
      "\n",
      "job1 7job2 70\n",
      "\n",
      "job1 8job2 80\n",
      "\n",
      "job1 9job2 90\n",
      "\n",
      "job1 10job2 100\n",
      "\n",
      "job2 110\n"
     ]
    }
   ],
   "source": [
    "# Lock\n",
    "\n",
    "def job1():\n",
    "    global A, lock\n",
    "    lock.acquire()\n",
    "    for i in range(10):\n",
    "        A += 1\n",
    "        print(\"job1 {}\".format(A))\n",
    "    lock.release()\n",
    "    \n",
    "def job2():\n",
    "    global A, lock\n",
    "    lock.acquire()\n",
    "    for i in range(10):\n",
    "        A += 10\n",
    "        print(\"job2 {}\".format(A))\n",
    "    lock.acquire()\n",
    "    \n",
    "if __name__==\"__main__\":\n",
    "    lock = threading.Lock()\n",
    "    A = 0\n",
    "    t1 = threading.Thread(target=job1)\n",
    "    t2 = threading.Thread(target=job2)\n",
    "    t1.start()\n",
    "    t2.start()\n",
    "    t1.join()\n",
    "    t2.join()"
   ]
  },
  {
   "cell_type": "code",
   "execution_count": null,
   "metadata": {
    "collapsed": true
   },
   "outputs": [],
   "source": []
  }
 ],
 "metadata": {
  "kernelspec": {
   "display_name": "Python 3",
   "language": "python",
   "name": "python3"
  },
  "language_info": {
   "codemirror_mode": {
    "name": "ipython",
    "version": 3
   },
   "file_extension": ".py",
   "mimetype": "text/x-python",
   "name": "python",
   "nbconvert_exporter": "python",
   "pygments_lexer": "ipython3",
   "version": "3.6.1"
  }
 },
 "nbformat": 4,
 "nbformat_minor": 2
}
